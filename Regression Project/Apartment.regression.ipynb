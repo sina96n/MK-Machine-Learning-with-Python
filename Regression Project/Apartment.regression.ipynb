{
 "cells": [
  {
   "cell_type": "markdown",
   "id": "27982fca",
   "metadata": {},
   "source": [
    "# Regression Project"
   ]
  },
  {
   "cell_type": "markdown",
   "id": "b4c659c4",
   "metadata": {},
   "source": [
    "**Estimate the housie prices with the information given**"
   ]
  },
  {
   "cell_type": "markdown",
   "id": "a576376e",
   "metadata": {},
   "source": [
    "### Importing Needed modules"
   ]
  },
  {
   "cell_type": "code",
   "execution_count": 4,
   "id": "77473f5a",
   "metadata": {},
   "outputs": [],
   "source": [
    "import pandas as pd\n",
    "import numpy as np\n",
    "from sklearn.linear_model import LinearRegression\n",
    "from sklearn.preprocessing import LabelEncoder, PolynomialFeatures\n",
    "from sklearn.metrics import r2_score"
   ]
  },
  {
   "cell_type": "markdown",
   "id": "a94594b7",
   "metadata": {},
   "source": [
    "### Reading Dataset\n",
    "- **Area**\n",
    "- **Room**\n",
    "- **Parking**\n",
    "- **Warehouse**\n",
    "- **Elevator**\n",
    "- **Address**\n",
    "- **Price**"
   ]
  },
  {
   "cell_type": "code",
   "execution_count": 6,
   "id": "b2b9327f",
   "metadata": {},
   "outputs": [
    {
     "data": {
      "text/html": [
       "<div>\n",
       "<style scoped>\n",
       "    .dataframe tbody tr th:only-of-type {\n",
       "        vertical-align: middle;\n",
       "    }\n",
       "\n",
       "    .dataframe tbody tr th {\n",
       "        vertical-align: top;\n",
       "    }\n",
       "\n",
       "    .dataframe thead th {\n",
       "        text-align: right;\n",
       "    }\n",
       "</style>\n",
       "<table border=\"1\" class=\"dataframe\">\n",
       "  <thead>\n",
       "    <tr style=\"text-align: right;\">\n",
       "      <th></th>\n",
       "      <th>Area</th>\n",
       "      <th>Room</th>\n",
       "      <th>Parking</th>\n",
       "      <th>Warehouse</th>\n",
       "      <th>Elevator</th>\n",
       "      <th>Address</th>\n",
       "      <th>Price</th>\n",
       "      <th>Price(USD)</th>\n",
       "    </tr>\n",
       "  </thead>\n",
       "  <tbody>\n",
       "    <tr>\n",
       "      <th>0</th>\n",
       "      <td>63</td>\n",
       "      <td>1</td>\n",
       "      <td>True</td>\n",
       "      <td>True</td>\n",
       "      <td>True</td>\n",
       "      <td>Shahran</td>\n",
       "      <td>1.850000e+09</td>\n",
       "      <td>61666.67</td>\n",
       "    </tr>\n",
       "    <tr>\n",
       "      <th>1</th>\n",
       "      <td>60</td>\n",
       "      <td>1</td>\n",
       "      <td>True</td>\n",
       "      <td>True</td>\n",
       "      <td>True</td>\n",
       "      <td>Shahran</td>\n",
       "      <td>1.850000e+09</td>\n",
       "      <td>61666.67</td>\n",
       "    </tr>\n",
       "    <tr>\n",
       "      <th>2</th>\n",
       "      <td>79</td>\n",
       "      <td>2</td>\n",
       "      <td>True</td>\n",
       "      <td>True</td>\n",
       "      <td>True</td>\n",
       "      <td>Pardis</td>\n",
       "      <td>5.500000e+08</td>\n",
       "      <td>18333.33</td>\n",
       "    </tr>\n",
       "    <tr>\n",
       "      <th>3</th>\n",
       "      <td>95</td>\n",
       "      <td>2</td>\n",
       "      <td>True</td>\n",
       "      <td>True</td>\n",
       "      <td>True</td>\n",
       "      <td>Shahrake Qods</td>\n",
       "      <td>9.025000e+08</td>\n",
       "      <td>30083.33</td>\n",
       "    </tr>\n",
       "    <tr>\n",
       "      <th>4</th>\n",
       "      <td>123</td>\n",
       "      <td>2</td>\n",
       "      <td>True</td>\n",
       "      <td>True</td>\n",
       "      <td>True</td>\n",
       "      <td>Shahrake Gharb</td>\n",
       "      <td>7.000000e+09</td>\n",
       "      <td>233333.33</td>\n",
       "    </tr>\n",
       "  </tbody>\n",
       "</table>\n",
       "</div>"
      ],
      "text/plain": [
       "  Area  Room  Parking  Warehouse  Elevator         Address         Price  \\\n",
       "0   63     1     True       True      True         Shahran  1.850000e+09   \n",
       "1   60     1     True       True      True         Shahran  1.850000e+09   \n",
       "2   79     2     True       True      True          Pardis  5.500000e+08   \n",
       "3   95     2     True       True      True   Shahrake Qods  9.025000e+08   \n",
       "4  123     2     True       True      True  Shahrake Gharb  7.000000e+09   \n",
       "\n",
       "   Price(USD)  \n",
       "0    61666.67  \n",
       "1    61666.67  \n",
       "2    18333.33  \n",
       "3    30083.33  \n",
       "4   233333.33  "
      ]
     },
     "execution_count": 6,
     "metadata": {},
     "output_type": "execute_result"
    }
   ],
   "source": [
    "df = pd.read_csv(\"1632300362534233.csv\")\n",
    "df.head()"
   ]
  },
  {
   "cell_type": "markdown",
   "id": "43449a94",
   "metadata": {},
   "source": [
    "## Optimizing Dataset"
   ]
  },
  {
   "cell_type": "markdown",
   "id": "c9575d91",
   "metadata": {},
   "source": [
    "### Converting address from string type to numeric type using LabelEncoder from sklearn"
   ]
  },
  {
   "cell_type": "code",
   "execution_count": 7,
   "id": "e13d6884",
   "metadata": {},
   "outputs": [
    {
     "data": {
      "text/html": [
       "<div>\n",
       "<style scoped>\n",
       "    .dataframe tbody tr th:only-of-type {\n",
       "        vertical-align: middle;\n",
       "    }\n",
       "\n",
       "    .dataframe tbody tr th {\n",
       "        vertical-align: top;\n",
       "    }\n",
       "\n",
       "    .dataframe thead th {\n",
       "        text-align: right;\n",
       "    }\n",
       "</style>\n",
       "<table border=\"1\" class=\"dataframe\">\n",
       "  <thead>\n",
       "    <tr style=\"text-align: right;\">\n",
       "      <th></th>\n",
       "      <th>Area</th>\n",
       "      <th>Room</th>\n",
       "      <th>Parking</th>\n",
       "      <th>Warehouse</th>\n",
       "      <th>Elevator</th>\n",
       "      <th>Address</th>\n",
       "      <th>Price</th>\n",
       "      <th>Price(USD)</th>\n",
       "    </tr>\n",
       "  </thead>\n",
       "  <tbody>\n",
       "    <tr>\n",
       "      <th>0</th>\n",
       "      <td>63</td>\n",
       "      <td>1</td>\n",
       "      <td>True</td>\n",
       "      <td>True</td>\n",
       "      <td>True</td>\n",
       "      <td>156</td>\n",
       "      <td>1.850000e+09</td>\n",
       "      <td>61666.67</td>\n",
       "    </tr>\n",
       "    <tr>\n",
       "      <th>1</th>\n",
       "      <td>60</td>\n",
       "      <td>1</td>\n",
       "      <td>True</td>\n",
       "      <td>True</td>\n",
       "      <td>True</td>\n",
       "      <td>156</td>\n",
       "      <td>1.850000e+09</td>\n",
       "      <td>61666.67</td>\n",
       "    </tr>\n",
       "    <tr>\n",
       "      <th>2</th>\n",
       "      <td>79</td>\n",
       "      <td>2</td>\n",
       "      <td>True</td>\n",
       "      <td>True</td>\n",
       "      <td>True</td>\n",
       "      <td>117</td>\n",
       "      <td>5.500000e+08</td>\n",
       "      <td>18333.33</td>\n",
       "    </tr>\n",
       "    <tr>\n",
       "      <th>3</th>\n",
       "      <td>95</td>\n",
       "      <td>2</td>\n",
       "      <td>True</td>\n",
       "      <td>True</td>\n",
       "      <td>True</td>\n",
       "      <td>152</td>\n",
       "      <td>9.025000e+08</td>\n",
       "      <td>30083.33</td>\n",
       "    </tr>\n",
       "    <tr>\n",
       "      <th>4</th>\n",
       "      <td>123</td>\n",
       "      <td>2</td>\n",
       "      <td>True</td>\n",
       "      <td>True</td>\n",
       "      <td>True</td>\n",
       "      <td>150</td>\n",
       "      <td>7.000000e+09</td>\n",
       "      <td>233333.33</td>\n",
       "    </tr>\n",
       "  </tbody>\n",
       "</table>\n",
       "</div>"
      ],
      "text/plain": [
       "  Area  Room  Parking  Warehouse  Elevator  Address         Price  Price(USD)\n",
       "0   63     1     True       True      True      156  1.850000e+09    61666.67\n",
       "1   60     1     True       True      True      156  1.850000e+09    61666.67\n",
       "2   79     2     True       True      True      117  5.500000e+08    18333.33\n",
       "3   95     2     True       True      True      152  9.025000e+08    30083.33\n",
       "4  123     2     True       True      True      150  7.000000e+09   233333.33"
      ]
     },
     "execution_count": 7,
     "metadata": {},
     "output_type": "execute_result"
    }
   ],
   "source": [
    "le = LabelEncoder()\n",
    "\n",
    "df[\"Address\"] = le.fit_transform(df[\"Address\"])\n",
    "df.head()"
   ]
  },
  {
   "cell_type": "markdown",
   "id": "a64d1d7a",
   "metadata": {},
   "source": [
    "### Removing irregular **Area** values"
   ]
  },
  {
   "cell_type": "code",
   "execution_count": 8,
   "id": "dc62f7c3",
   "metadata": {},
   "outputs": [],
   "source": [
    "df[\"Area\"] = df[\"Area\"].str.replace(\",\", \"\")\n",
    "df[\"Area\"] = df[\"Area\"].astype(\"int64\")\n",
    "df = df[df[\"Area\"] < 2000]"
   ]
  },
  {
   "cell_type": "markdown",
   "id": "93dd4083",
   "metadata": {},
   "source": [
    "## converting **Parking**, **Warehouse** and **Elevator** availability into Binary form"
   ]
  },
  {
   "cell_type": "code",
   "execution_count": 9,
   "id": "afa550a1",
   "metadata": {},
   "outputs": [],
   "source": [
    "df = df.replace({True : 1,\n",
    "                 False : 0})"
   ]
  },
  {
   "cell_type": "markdown",
   "id": "c2d8dfea",
   "metadata": {},
   "source": [
    "## Splitting dataset into **Train** and **Test** parts"
   ]
  },
  {
   "cell_type": "code",
   "execution_count": 47,
   "id": "2ff4da8c",
   "metadata": {},
   "outputs": [],
   "source": [
    "msk = np.random.rand(len(df))  < 0.8\n",
    "\n",
    "train = df[msk]\n",
    "test  = df[~msk]"
   ]
  },
  {
   "cell_type": "markdown",
   "id": "f7f7fc57",
   "metadata": {},
   "source": [
    "## Creating arrays to train our model"
   ]
  },
  {
   "cell_type": "code",
   "execution_count": 48,
   "id": "5ab31749",
   "metadata": {},
   "outputs": [],
   "source": [
    "train_x = np.asanyarray(train[[\"Area\",\"Room\",\"Parking\",\"Warehouse\",\"Elevator\",\"Address\"]])\n",
    "train_y = np.asanyarray(train[\"Price(USD)\"])\n",
    "\n",
    "test_x = np.asanyarray(train[[\"Area\",\"Room\",\"Parking\",\"Warehouse\",\"Elevator\",\"Address\"]])\n",
    "test_y = np.asanyarray(train[\"Price(USD)\"])\n",
    "\n",
    "# Polynomial regression\n",
    "\n",
    "poly = PolynomialFeatures(degree=2)\n",
    "train_x_poly = poly.fit_transform(train_x)"
   ]
  },
  {
   "cell_type": "markdown",
   "id": "30890b17",
   "metadata": {},
   "source": [
    "## Training Model"
   ]
  },
  {
   "cell_type": "code",
   "execution_count": 49,
   "id": "3cb3a967",
   "metadata": {},
   "outputs": [
    {
     "name": "stdout",
     "output_type": "stream",
     "text": [
      "coefficient : [-1.87976605e-08  1.65588215e+03 -1.55500455e+05 -1.49019802e+04\n",
      "  4.20976467e+03  2.85732088e+04 -3.22896669e+02 -3.38266619e+00\n",
      "  1.01493878e+03 -1.61220322e+03 -5.73504745e+01  1.53073333e+03\n",
      "  1.04018582e+01 -3.04482735e+03  5.35485336e+04  3.80735050e+04\n",
      " -3.27965126e+04 -3.73641417e+02 -1.49019802e+04  4.04749231e+04\n",
      "  1.65506305e+04  2.71908120e+02  4.20976467e+03 -3.92454380e+04\n",
      " -4.43360332e+02  2.85732088e+04 -7.66227158e+02  3.98975237e+00]\n",
      "Intercept : 33745.704192271834\n"
     ]
    }
   ],
   "source": [
    "regr = LinearRegression()\n",
    "regr.fit(train_x_poly, train_y)\n",
    "\n",
    "print(f\"coefficient : {regr.coef_}\")\n",
    "print(f\"Intercept : {regr.intercept_}\")"
   ]
  },
  {
   "cell_type": "markdown",
   "id": "b8961111",
   "metadata": {},
   "source": [
    "## Model **Evaluation** with the Test data"
   ]
  },
  {
   "cell_type": "code",
   "execution_count": 50,
   "id": "847fcddc",
   "metadata": {},
   "outputs": [
    {
     "name": "stdout",
     "output_type": "stream",
     "text": [
      "MAE: 81564.18\n",
      "MSE: 21459692591.92\n",
      "R2 : 0.71\n"
     ]
    }
   ],
   "source": [
    "test_x_poly = poly.fit_transform(test_x)\n",
    "test_y_ = regr.predict(test_x_poly)\n",
    "\n",
    "print(\"MAE: %.2f\" % np.mean(np.absolute(test_y_ - test_y)))\n",
    "print(\"MSE: %.2f\" % np.mean((test_y_ - test_y) ** 2))\n",
    "print(\"R2 : %.2f\" % r2_score(test_y,test_y_ ) )"
   ]
  },
  {
   "cell_type": "markdown",
   "id": "412c7d02",
   "metadata": {},
   "source": [
    "\n",
    "\n",
    "## By Sina Kazemi"
   ]
  }
 ],
 "metadata": {
  "kernelspec": {
   "display_name": "Python 3 (ipykernel)",
   "language": "python",
   "name": "python3"
  },
  "language_info": {
   "codemirror_mode": {
    "name": "ipython",
    "version": 3
   },
   "file_extension": ".py",
   "mimetype": "text/x-python",
   "name": "python",
   "nbconvert_exporter": "python",
   "pygments_lexer": "ipython3",
   "version": "3.9.6"
  }
 },
 "nbformat": 4,
 "nbformat_minor": 5
}
