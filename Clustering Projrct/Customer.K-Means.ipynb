{
 "cells": [
  {
   "cell_type": "markdown",
   "id": "d3136e3e",
   "metadata": {},
   "source": [
    "# Customer Clustering With K-Means algorithm"
   ]
  },
  {
   "cell_type": "markdown",
   "id": "3099849b",
   "metadata": {},
   "source": [
    "### importing modules"
   ]
  },
  {
   "cell_type": "code",
   "execution_count": 3,
   "id": "5f5ffea2",
   "metadata": {},
   "outputs": [],
   "source": [
    "import numpy as np\n",
    "import pandas as pd\n",
    "import matplotlib.pyplot as plt"
   ]
  },
  {
   "cell_type": "markdown",
   "id": "c56d73c3",
   "metadata": {},
   "source": [
    "### Reading Dataset"
   ]
  },
  {
   "cell_type": "code",
   "execution_count": 4,
   "id": "8a3afed5",
   "metadata": {},
   "outputs": [
    {
     "data": {
      "text/html": [
       "<div>\n",
       "<style scoped>\n",
       "    .dataframe tbody tr th:only-of-type {\n",
       "        vertical-align: middle;\n",
       "    }\n",
       "\n",
       "    .dataframe tbody tr th {\n",
       "        vertical-align: top;\n",
       "    }\n",
       "\n",
       "    .dataframe thead th {\n",
       "        text-align: right;\n",
       "    }\n",
       "</style>\n",
       "<table border=\"1\" class=\"dataframe\">\n",
       "  <thead>\n",
       "    <tr style=\"text-align: right;\">\n",
       "      <th></th>\n",
       "      <th>CustomerID</th>\n",
       "      <th>Gender</th>\n",
       "      <th>Age</th>\n",
       "      <th>Annual Income (k$)</th>\n",
       "      <th>Spending Score (1-100)</th>\n",
       "    </tr>\n",
       "  </thead>\n",
       "  <tbody>\n",
       "    <tr>\n",
       "      <th>0</th>\n",
       "      <td>1</td>\n",
       "      <td>Male</td>\n",
       "      <td>19</td>\n",
       "      <td>15</td>\n",
       "      <td>39</td>\n",
       "    </tr>\n",
       "    <tr>\n",
       "      <th>1</th>\n",
       "      <td>2</td>\n",
       "      <td>Male</td>\n",
       "      <td>21</td>\n",
       "      <td>15</td>\n",
       "      <td>81</td>\n",
       "    </tr>\n",
       "    <tr>\n",
       "      <th>2</th>\n",
       "      <td>3</td>\n",
       "      <td>Female</td>\n",
       "      <td>20</td>\n",
       "      <td>16</td>\n",
       "      <td>6</td>\n",
       "    </tr>\n",
       "    <tr>\n",
       "      <th>3</th>\n",
       "      <td>4</td>\n",
       "      <td>Female</td>\n",
       "      <td>23</td>\n",
       "      <td>16</td>\n",
       "      <td>77</td>\n",
       "    </tr>\n",
       "    <tr>\n",
       "      <th>4</th>\n",
       "      <td>5</td>\n",
       "      <td>Female</td>\n",
       "      <td>31</td>\n",
       "      <td>17</td>\n",
       "      <td>40</td>\n",
       "    </tr>\n",
       "  </tbody>\n",
       "</table>\n",
       "</div>"
      ],
      "text/plain": [
       "   CustomerID  Gender  Age  Annual Income (k$)  Spending Score (1-100)\n",
       "0           1    Male   19                  15                      39\n",
       "1           2    Male   21                  15                      81\n",
       "2           3  Female   20                  16                       6\n",
       "3           4  Female   23                  16                      77\n",
       "4           5  Female   31                  17                      40"
      ]
     },
     "execution_count": 4,
     "metadata": {},
     "output_type": "execute_result"
    }
   ],
   "source": [
    "df = pd.read_csv(\"Customer.csv\")\n",
    "df.head()"
   ]
  },
  {
   "cell_type": "markdown",
   "id": "4628597e",
   "metadata": {},
   "source": [
    "### Checking for none-numeric data-type"
   ]
  },
  {
   "cell_type": "code",
   "execution_count": 5,
   "id": "5f362798",
   "metadata": {},
   "outputs": [
    {
     "name": "stdout",
     "output_type": "stream",
     "text": [
      "CustomerID                 int64\n",
      "Gender                    object\n",
      "Age                        int64\n",
      "Annual Income (k$)         int64\n",
      "Spending Score (1-100)     int64\n",
      "dtype: object\n",
      "(200, 5)\n"
     ]
    }
   ],
   "source": [
    "print(df.dtypes)\n",
    "print(df.shape)"
   ]
  },
  {
   "cell_type": "markdown",
   "id": "8ec6f89b",
   "metadata": {},
   "source": [
    "Now we know that Gender column in dataset is a none-numeric datatype. so we have to convert it with **LabelEncoder**"
   ]
  },
  {
   "cell_type": "code",
   "execution_count": 6,
   "id": "e3b52dda",
   "metadata": {},
   "outputs": [
    {
     "data": {
      "text/html": [
       "<div>\n",
       "<style scoped>\n",
       "    .dataframe tbody tr th:only-of-type {\n",
       "        vertical-align: middle;\n",
       "    }\n",
       "\n",
       "    .dataframe tbody tr th {\n",
       "        vertical-align: top;\n",
       "    }\n",
       "\n",
       "    .dataframe thead th {\n",
       "        text-align: right;\n",
       "    }\n",
       "</style>\n",
       "<table border=\"1\" class=\"dataframe\">\n",
       "  <thead>\n",
       "    <tr style=\"text-align: right;\">\n",
       "      <th></th>\n",
       "      <th>CustomerID</th>\n",
       "      <th>Gender</th>\n",
       "      <th>Age</th>\n",
       "      <th>Annual Income (k$)</th>\n",
       "      <th>Spending Score (1-100)</th>\n",
       "    </tr>\n",
       "  </thead>\n",
       "  <tbody>\n",
       "    <tr>\n",
       "      <th>0</th>\n",
       "      <td>1</td>\n",
       "      <td>1</td>\n",
       "      <td>19</td>\n",
       "      <td>15</td>\n",
       "      <td>39</td>\n",
       "    </tr>\n",
       "    <tr>\n",
       "      <th>1</th>\n",
       "      <td>2</td>\n",
       "      <td>1</td>\n",
       "      <td>21</td>\n",
       "      <td>15</td>\n",
       "      <td>81</td>\n",
       "    </tr>\n",
       "    <tr>\n",
       "      <th>2</th>\n",
       "      <td>3</td>\n",
       "      <td>0</td>\n",
       "      <td>20</td>\n",
       "      <td>16</td>\n",
       "      <td>6</td>\n",
       "    </tr>\n",
       "    <tr>\n",
       "      <th>3</th>\n",
       "      <td>4</td>\n",
       "      <td>0</td>\n",
       "      <td>23</td>\n",
       "      <td>16</td>\n",
       "      <td>77</td>\n",
       "    </tr>\n",
       "    <tr>\n",
       "      <th>4</th>\n",
       "      <td>5</td>\n",
       "      <td>0</td>\n",
       "      <td>31</td>\n",
       "      <td>17</td>\n",
       "      <td>40</td>\n",
       "    </tr>\n",
       "  </tbody>\n",
       "</table>\n",
       "</div>"
      ],
      "text/plain": [
       "   CustomerID  Gender  Age  Annual Income (k$)  Spending Score (1-100)\n",
       "0           1       1   19                  15                      39\n",
       "1           2       1   21                  15                      81\n",
       "2           3       0   20                  16                       6\n",
       "3           4       0   23                  16                      77\n",
       "4           5       0   31                  17                      40"
      ]
     },
     "execution_count": 6,
     "metadata": {},
     "output_type": "execute_result"
    }
   ],
   "source": [
    "from sklearn.preprocessing import LabelEncoder\n",
    "\n",
    "encoder = LabelEncoder()\n",
    "df[\"Gender\"] = encoder.fit_transform(df[\"Gender\"])\n",
    "df.head()"
   ]
  },
  {
   "cell_type": "code",
   "execution_count": 7,
   "id": "b3b69662",
   "metadata": {},
   "outputs": [
    {
     "data": {
      "text/plain": [
       "CustomerID                int64\n",
       "Gender                    int32\n",
       "Age                       int64\n",
       "Annual Income (k$)        int64\n",
       "Spending Score (1-100)    int64\n",
       "dtype: object"
      ]
     },
     "execution_count": 7,
     "metadata": {},
     "output_type": "execute_result"
    }
   ],
   "source": [
    "df.dtypes"
   ]
  },
  {
   "cell_type": "code",
   "execution_count": 8,
   "id": "7cb235c8",
   "metadata": {},
   "outputs": [
    {
     "data": {
      "text/plain": [
       "Index(['CustomerID', 'Gender', 'Age', 'Annual Income (k$)',\n",
       "       'Spending Score (1-100)'],\n",
       "      dtype='object')"
      ]
     },
     "execution_count": 8,
     "metadata": {},
     "output_type": "execute_result"
    }
   ],
   "source": [
    "df.columns"
   ]
  },
  {
   "cell_type": "markdown",
   "id": "c8f433e0",
   "metadata": {},
   "source": [
    "### standardizing data"
   ]
  },
  {
   "cell_type": "code",
   "execution_count": 12,
   "id": "8ed3f5b4",
   "metadata": {},
   "outputs": [
    {
     "data": {
      "text/plain": [
       "array([[-1.7234121 ,  1.12815215, -1.42456879, -1.73899919, -0.43480148,\n",
       "        -0.66995636],\n",
       "       [-1.70609137,  1.12815215, -1.28103541, -1.73899919,  1.19570407,\n",
       "        -0.66995636],\n",
       "       [-1.68877065, -0.88640526, -1.3528021 , -1.70082976, -1.71591298,\n",
       "         0.83134641],\n",
       "       [-1.67144992, -0.88640526, -1.13750203, -1.70082976,  1.04041783,\n",
       "         0.83134641],\n",
       "       [-1.6541292 , -0.88640526, -0.56336851, -1.66266033, -0.39597992,\n",
       "         0.83134641]])"
      ]
     },
     "execution_count": 12,
     "metadata": {},
     "output_type": "execute_result"
    }
   ],
   "source": [
    "from sklearn.preprocessing import StandardScaler\n",
    "\n",
    "x = df.values\n",
    "\n",
    "x = StandardScaler().fit_transform(x)\n",
    "x[:5]"
   ]
  },
  {
   "cell_type": "markdown",
   "id": "dd61b623",
   "metadata": {},
   "source": [
    "## Model Training with different K values\n",
    "\n",
    ">class sklearn.cluster.KMeans(n_clusters=8, *, init='k-means++', n_init=10, max_iter=300, tol=0.0001, verbose=0, random_state=None, copy_x=True, algorithm='auto')\n",
    "\n",
    "I used **init=\"random** but the results were lower the **init=kmeans++**."
   ]
  },
  {
   "cell_type": "code",
   "execution_count": 13,
   "id": "9c8bf5b6",
   "metadata": {},
   "outputs": [
    {
     "data": {
      "image/png": "[encoded data removed]",
      "text/plain": [
       "<Figure size 432x288 with 1 Axes>"
      ]
     },
     "metadata": {
      "needs_background": "light"
     },
     "output_type": "display_data"
    }
   ],
   "source": [
    "from sklearn.cluster import KMeans\n",
    "from sklearn.metrics import silhouette_score\n",
    "\n",
    "N = [i for i in range(2,15)]\n",
    "results = list()\n",
    "\n",
    "for n in N:\n",
    "    k_means = KMeans(n_clusters=n, init=\"k-means++\", n_init=15)\n",
    "    k_means.fit(x)\n",
    "    labels = k_means.labels_\n",
    "\n",
    "    df[\"Cluster\"] = labels\n",
    "\n",
    "    silhouette = silhouette_score(x,labels)\n",
    "    results.append([n, silhouette])\n",
    "    \n",
    "    \n",
    "for result in results:\n",
    "    plt.scatter(result[0], result[1])"
   ]
  },
  {
   "cell_type": "markdown",
   "id": "60e6f1e8",
   "metadata": {},
   "source": [
    "## Choosing the best K\n",
    "as you can see above, the accuracy rises while **k** rises. but thats untill a certain point. the rest depends on you to choose whichever **k** you want.\n",
    "\n",
    "I chose 8 for example :"
   ]
  },
  {
   "cell_type": "code",
   "execution_count": 15,
   "id": "49b4ee48",
   "metadata": {},
   "outputs": [
    {
     "data": {
      "text/html": [
       "<div>\n",
       "<style scoped>\n",
       "    .dataframe tbody tr th:only-of-type {\n",
       "        vertical-align: middle;\n",
       "    }\n",
       "\n",
       "    .dataframe tbody tr th {\n",
       "        vertical-align: top;\n",
       "    }\n",
       "\n",
       "    .dataframe thead th {\n",
       "        text-align: right;\n",
       "    }\n",
       "</style>\n",
       "<table border=\"1\" class=\"dataframe\">\n",
       "  <thead>\n",
       "    <tr style=\"text-align: right;\">\n",
       "      <th></th>\n",
       "      <th>CustomerID</th>\n",
       "      <th>Gender</th>\n",
       "      <th>Age</th>\n",
       "      <th>Annual Income (k$)</th>\n",
       "      <th>Spending Score (1-100)</th>\n",
       "    </tr>\n",
       "    <tr>\n",
       "      <th>Cluster</th>\n",
       "      <th></th>\n",
       "      <th></th>\n",
       "      <th></th>\n",
       "      <th></th>\n",
       "      <th></th>\n",
       "    </tr>\n",
       "  </thead>\n",
       "  <tbody>\n",
       "    <tr>\n",
       "      <th>0</th>\n",
       "      <td>64.170732</td>\n",
       "      <td>0.0</td>\n",
       "      <td>27.219512</td>\n",
       "      <td>44.439024</td>\n",
       "      <td>56.243902</td>\n",
       "    </tr>\n",
       "    <tr>\n",
       "      <th>1</th>\n",
       "      <td>171.000000</td>\n",
       "      <td>0.0</td>\n",
       "      <td>44.600000</td>\n",
       "      <td>92.333333</td>\n",
       "      <td>21.600000</td>\n",
       "    </tr>\n",
       "    <tr>\n",
       "      <th>2</th>\n",
       "      <td>50.521739</td>\n",
       "      <td>1.0</td>\n",
       "      <td>25.043478</td>\n",
       "      <td>38.652174</td>\n",
       "      <td>59.608696</td>\n",
       "    </tr>\n",
       "    <tr>\n",
       "      <th>3</th>\n",
       "      <td>159.500000</td>\n",
       "      <td>1.0</td>\n",
       "      <td>39.500000</td>\n",
       "      <td>85.150000</td>\n",
       "      <td>14.050000</td>\n",
       "    </tr>\n",
       "    <tr>\n",
       "      <th>4</th>\n",
       "      <td>158.368421</td>\n",
       "      <td>1.0</td>\n",
       "      <td>32.947368</td>\n",
       "      <td>86.052632</td>\n",
       "      <td>81.263158</td>\n",
       "    </tr>\n",
       "    <tr>\n",
       "      <th>5</th>\n",
       "      <td>69.692308</td>\n",
       "      <td>1.0</td>\n",
       "      <td>58.115385</td>\n",
       "      <td>48.038462</td>\n",
       "      <td>41.269231</td>\n",
       "    </tr>\n",
       "    <tr>\n",
       "      <th>6</th>\n",
       "      <td>65.742857</td>\n",
       "      <td>0.0</td>\n",
       "      <td>51.600000</td>\n",
       "      <td>46.342857</td>\n",
       "      <td>40.742857</td>\n",
       "    </tr>\n",
       "    <tr>\n",
       "      <th>7</th>\n",
       "      <td>163.333333</td>\n",
       "      <td>0.0</td>\n",
       "      <td>32.190476</td>\n",
       "      <td>86.047619</td>\n",
       "      <td>81.666667</td>\n",
       "    </tr>\n",
       "  </tbody>\n",
       "</table>\n",
       "</div>"
      ],
      "text/plain": [
       "         CustomerID  Gender        Age  Annual Income (k$)  \\\n",
       "Cluster                                                      \n",
       "0         64.170732     0.0  27.219512           44.439024   \n",
       "1        171.000000     0.0  44.600000           92.333333   \n",
       "2         50.521739     1.0  25.043478           38.652174   \n",
       "3        159.500000     1.0  39.500000           85.150000   \n",
       "4        158.368421     1.0  32.947368           86.052632   \n",
       "5         69.692308     1.0  58.115385           48.038462   \n",
       "6         65.742857     0.0  51.600000           46.342857   \n",
       "7        163.333333     0.0  32.190476           86.047619   \n",
       "\n",
       "         Spending Score (1-100)  \n",
       "Cluster                          \n",
       "0                     56.243902  \n",
       "1                     21.600000  \n",
       "2                     59.608696  \n",
       "3                     14.050000  \n",
       "4                     81.263158  \n",
       "5                     41.269231  \n",
       "6                     40.742857  \n",
       "7                     81.666667  "
      ]
     },
     "execution_count": 15,
     "metadata": {},
     "output_type": "execute_result"
    }
   ],
   "source": [
    "k_means = KMeans(n_clusters=8,  init='k-means++', n_init=12, random_state=4)\n",
    "k_means.fit(x)\n",
    "labels = k_means.labels_\n",
    "\n",
    "df[\"Cluster\"] = labels\n",
    "df.groupby('Cluster').mean()"
   ]
  },
  {
   "cell_type": "markdown",
   "id": "82fcf389",
   "metadata": {},
   "source": [
    "- the overall, gender values means are below 0.5. so we can say that majoriy of costumers are women.<br>\n",
    "- The age range of each cluster can be identified<br>\n",
    "- The Annual Income range of each cluster can be identified<br>\n",
    "- The Spending Score range of each cluster can be identified<br>"
   ]
  },
  {
   "cell_type": "markdown",
   "id": "4f4f0c13",
   "metadata": {},
   "source": [
    "# By Sina Kazemi"
   ]
  }
 ],
 "metadata": {
  "kernelspec": {
   "display_name": "Python 3 (ipykernel)",
   "language": "python",
   "name": "python3"
  },
  "language_info": {
   "codemirror_mode": {
    "name": "ipython",
    "version": 3
   },
   "file_extension": ".py",
   "mimetype": "text/x-python",
   "name": "python",
   "nbconvert_exporter": "python",
   "pygments_lexer": "ipython3",
   "version": "3.9.6"
  }
 },
 "nbformat": 4,
 "nbformat_minor": 5
}
